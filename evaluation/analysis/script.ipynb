{
 "cells": [
  {
   "cell_type": "code",
   "execution_count": 2,
   "id": "d66fc521",
   "metadata": {},
   "outputs": [],
   "source": [
    "import pandas as pd"
   ]
  },
  {
   "cell_type": "code",
   "execution_count": 28,
   "id": "b1d4484d",
   "metadata": {},
   "outputs": [
    {
     "data": {
      "text/plain": [
       "'This paper provides a compelling theoretical explanation for a large class of adversarial examples. While this is not new, they unify several old perspectives, and convincingly argue for genuinely new scaling relationships. This analysis only seems to work for \"well-behaved\" models. For models with gradient masking, obfuscated gradients or even non-differentiable models, it is unlikely such analysis is significant.'"
      ]
     },
     "execution_count": 28,
     "metadata": {},
     "output_type": "execute_result"
    }
   ],
   "source": [
    "df = pd.read_csv(\"flan-t5_review_out.txt.csv\")\n",
    "df.iloc[3,:][\"prediction\"]\n"
   ]
  },
  {
   "cell_type": "code",
   "execution_count": 43,
   "id": "edf2ebd1",
   "metadata": {},
   "outputs": [
    {
     "data": {
      "text/plain": [
       "Unnamed: 0                                                            57\n",
       "gold                   This paper builds upon existing works to prove...\n",
       "prediction             The authors consider the problem of finding an...\n",
       "rouge_score                                                     0.159601\n",
       "bertscore_precision                                             0.710813\n",
       "bertscore_recall                                                0.698373\n",
       "bertscore_f1                                                    0.704538\n",
       "factCC_label                                                   INCORRECT\n",
       "factCC_score                                                    0.992199\n",
       "Name: 57, dtype: object"
      ]
     },
     "execution_count": 43,
     "metadata": {},
     "output_type": "execute_result"
    }
   ],
   "source": [
    "df = pd.read_csv(\"metrics/Bart_review_out.txt.csv\")\n",
    "df.iloc[57,:]\n"
   ]
  },
  {
   "cell_type": "code",
   "execution_count": null,
   "id": "dcf08529",
   "metadata": {},
   "outputs": [],
   "source": [
    "df['prediction'] = df['prediction'].str.split('\\n').str[0]\n",
    "\n",
    "df.to_csv(\"bart_review_out.txt.csv\", index=False)"
   ]
  },
  {
   "cell_type": "code",
   "execution_count": 42,
   "id": "e66cdb6d",
   "metadata": {},
   "outputs": [
    {
     "data": {
      "text/plain": [
       "Unnamed: 0                                                           120\n",
       "gold                   This paper demonstrates compellingly that tran...\n",
       "prediction             Transformers are capable of in-context learnin...\n",
       "rouge_score                                                     0.177215\n",
       "bertscore_precision                                             0.780257\n",
       "bertscore_recall                                                0.786702\n",
       "bertscore_f1                                                    0.783467\n",
       "factCC_label                                                   INCORRECT\n",
       "factCC_score                                                    0.999973\n",
       "Name: 120, dtype: object"
      ]
     },
     "execution_count": 42,
     "metadata": {},
     "output_type": "execute_result"
    }
   ],
   "source": [
    "df = pd.read_csv(\"metrics/Bart_review_out.txt.csv\")\n",
    "df.iloc[120,:]"
   ]
  },
  {
   "cell_type": "code",
   "execution_count": 24,
   "id": "1472a46e",
   "metadata": {},
   "outputs": [
    {
     "name": "stdout",
     "output_type": "stream",
     "text": [
      "0 out of 549 predictions contain '\\n' (0.00%)\n"
     ]
    }
   ],
   "source": [
    "has_newline = df['prediction'].str.contains('\\n', regex=False)\n",
    "\n",
    "count_with_newline = has_newline.sum()\n",
    "total = len(df)\n",
    "\n",
    "print(f\"{count_with_newline} out of {total} predictions contain '\\\\n' ({count_with_newline / total:.2%})\")"
   ]
  },
  {
   "cell_type": "code",
   "execution_count": 3,
   "id": "5bf0b9e5",
   "metadata": {},
   "outputs": [],
   "source": [
    "df = pd.read_csv(\"evaluation_summary_combined.csv\")"
   ]
  },
  {
   "cell_type": "code",
   "execution_count": 4,
   "id": "3a61ccff",
   "metadata": {},
   "outputs": [
    {
     "data": {
      "text/html": [
       "<div>\n",
       "<style scoped>\n",
       "    .dataframe tbody tr th:only-of-type {\n",
       "        vertical-align: middle;\n",
       "    }\n",
       "\n",
       "    .dataframe tbody tr th {\n",
       "        vertical-align: top;\n",
       "    }\n",
       "\n",
       "    .dataframe thead th {\n",
       "        text-align: right;\n",
       "    }\n",
       "</style>\n",
       "<table border=\"1\" class=\"dataframe\">\n",
       "  <thead>\n",
       "    <tr style=\"text-align: right;\">\n",
       "      <th></th>\n",
       "      <th>model</th>\n",
       "      <th>Prediction-Tokens-Length</th>\n",
       "      <th>ROUGE</th>\n",
       "      <th>BERTScore-F1</th>\n",
       "      <th>BERTScore-precision</th>\n",
       "      <th>BERTScore-recall</th>\n",
       "      <th>FactCC-Score</th>\n",
       "      <th>FactCC-Label-Rate</th>\n",
       "      <th>Disco_EntityGraph</th>\n",
       "      <th>Disco_LexicalChain</th>\n",
       "      <th>Disco_RC</th>\n",
       "      <th>Disco_LC</th>\n",
       "    </tr>\n",
       "  </thead>\n",
       "  <tbody>\n",
       "    <tr>\n",
       "      <th>0</th>\n",
       "      <td>pegasus_review</td>\n",
       "      <td>15.1166</td>\n",
       "      <td>0.0647</td>\n",
       "      <td>0.6737</td>\n",
       "      <td>0.7142</td>\n",
       "      <td>0.6388</td>\n",
       "      <td>0.9316</td>\n",
       "      <td>0.5046</td>\n",
       "      <td>0.0055</td>\n",
       "      <td>0.0089</td>\n",
       "      <td>0.0471</td>\n",
       "      <td>0.0234</td>\n",
       "    </tr>\n",
       "    <tr>\n",
       "      <th>1</th>\n",
       "      <td>pegasus_all</td>\n",
       "      <td>13.8215</td>\n",
       "      <td>0.0596</td>\n",
       "      <td>0.6746</td>\n",
       "      <td>0.7183</td>\n",
       "      <td>0.6372</td>\n",
       "      <td>0.9442</td>\n",
       "      <td>0.5483</td>\n",
       "      <td>0.0046</td>\n",
       "      <td>0.0061</td>\n",
       "      <td>0.0343</td>\n",
       "      <td>0.0169</td>\n",
       "    </tr>\n",
       "    <tr>\n",
       "      <th>2</th>\n",
       "      <td>flan-t5_review</td>\n",
       "      <td>100.3024</td>\n",
       "      <td>0.1548</td>\n",
       "      <td>0.7725</td>\n",
       "      <td>0.7773</td>\n",
       "      <td>0.7689</td>\n",
       "      <td>0.9519</td>\n",
       "      <td>0.3297</td>\n",
       "      <td>0.4821</td>\n",
       "      <td>1.0437</td>\n",
       "      <td>0.4388</td>\n",
       "      <td>0.1838</td>\n",
       "    </tr>\n",
       "    <tr>\n",
       "      <th>3</th>\n",
       "      <td>flan-t5_all</td>\n",
       "      <td>98.5902</td>\n",
       "      <td>0.1440</td>\n",
       "      <td>0.7668</td>\n",
       "      <td>0.7697</td>\n",
       "      <td>0.7651</td>\n",
       "      <td>0.9531</td>\n",
       "      <td>0.2386</td>\n",
       "      <td>0.4309</td>\n",
       "      <td>0.8730</td>\n",
       "      <td>0.3983</td>\n",
       "      <td>0.1665</td>\n",
       "    </tr>\n",
       "    <tr>\n",
       "      <th>4</th>\n",
       "      <td>bart_review</td>\n",
       "      <td>85.2623</td>\n",
       "      <td>0.1637</td>\n",
       "      <td>0.7797</td>\n",
       "      <td>0.7909</td>\n",
       "      <td>0.7700</td>\n",
       "      <td>0.9518</td>\n",
       "      <td>0.4098</td>\n",
       "      <td>0.7255</td>\n",
       "      <td>2.7086</td>\n",
       "      <td>2.3403</td>\n",
       "      <td>0.9528</td>\n",
       "    </tr>\n",
       "  </tbody>\n",
       "</table>\n",
       "</div>"
      ],
      "text/plain": [
       "            model  Prediction-Tokens-Length   ROUGE  BERTScore-F1  \\\n",
       "0  pegasus_review                   15.1166  0.0647        0.6737   \n",
       "1     pegasus_all                   13.8215  0.0596        0.6746   \n",
       "2  flan-t5_review                  100.3024  0.1548        0.7725   \n",
       "3     flan-t5_all                   98.5902  0.1440        0.7668   \n",
       "4     bart_review                   85.2623  0.1637        0.7797   \n",
       "\n",
       "   BERTScore-precision  BERTScore-recall  FactCC-Score  FactCC-Label-Rate  \\\n",
       "0               0.7142            0.6388        0.9316             0.5046   \n",
       "1               0.7183            0.6372        0.9442             0.5483   \n",
       "2               0.7773            0.7689        0.9519             0.3297   \n",
       "3               0.7697            0.7651        0.9531             0.2386   \n",
       "4               0.7909            0.7700        0.9518             0.4098   \n",
       "\n",
       "   Disco_EntityGraph  Disco_LexicalChain  Disco_RC  Disco_LC  \n",
       "0             0.0055              0.0089    0.0471    0.0234  \n",
       "1             0.0046              0.0061    0.0343    0.0169  \n",
       "2             0.4821              1.0437    0.4388    0.1838  \n",
       "3             0.4309              0.8730    0.3983    0.1665  \n",
       "4             0.7255              2.7086    2.3403    0.9528  "
      ]
     },
     "execution_count": 4,
     "metadata": {},
     "output_type": "execute_result"
    }
   ],
   "source": [
    "df.head()"
   ]
  },
  {
   "cell_type": "code",
   "execution_count": null,
   "id": "d315e647",
   "metadata": {},
   "outputs": [],
   "source": [
    "df['Disco_avg'] = df[[\"Disco_EntityGraph\",\"Disco_LexicalChain\",'Disco_RC','Disco_LC']].mean(axis=1)"
   ]
  }
 ],
 "metadata": {
  "kernelspec": {
   "display_name": "autometa",
   "language": "python",
   "name": "python3"
  },
  "language_info": {
   "codemirror_mode": {
    "name": "ipython",
    "version": 3
   },
   "file_extension": ".py",
   "mimetype": "text/x-python",
   "name": "python",
   "nbconvert_exporter": "python",
   "pygments_lexer": "ipython3",
   "version": "3.13.3"
  }
 },
 "nbformat": 4,
 "nbformat_minor": 5
}
