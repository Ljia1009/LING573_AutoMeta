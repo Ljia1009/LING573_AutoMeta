{
 "cells": [
  {
   "cell_type": "code",
   "execution_count": 1,
   "id": "d66fc521",
   "metadata": {},
   "outputs": [],
   "source": [
    "import pandas as pd"
   ]
  },
  {
   "cell_type": "code",
   "execution_count": 28,
   "id": "b1d4484d",
   "metadata": {},
   "outputs": [
    {
     "data": {
      "text/plain": [
       "'This paper provides a compelling theoretical explanation for a large class of adversarial examples. While this is not new, they unify several old perspectives, and convincingly argue for genuinely new scaling relationships. This analysis only seems to work for \"well-behaved\" models. For models with gradient masking, obfuscated gradients or even non-differentiable models, it is unlikely such analysis is significant.'"
      ]
     },
     "execution_count": 28,
     "metadata": {},
     "output_type": "execute_result"
    }
   ],
   "source": [
    "df = pd.read_csv(\"flan-t5_review_out.txt.csv\")\n",
    "df.iloc[3,:][\"prediction\"]\n"
   ]
  },
  {
   "cell_type": "code",
   "execution_count": 43,
   "id": "edf2ebd1",
   "metadata": {},
   "outputs": [
    {
     "data": {
      "text/plain": [
       "Unnamed: 0                                                            57\n",
       "gold                   This paper builds upon existing works to prove...\n",
       "prediction             The authors consider the problem of finding an...\n",
       "rouge_score                                                     0.159601\n",
       "bertscore_precision                                             0.710813\n",
       "bertscore_recall                                                0.698373\n",
       "bertscore_f1                                                    0.704538\n",
       "factCC_label                                                   INCORRECT\n",
       "factCC_score                                                    0.992199\n",
       "Name: 57, dtype: object"
      ]
     },
     "execution_count": 43,
     "metadata": {},
     "output_type": "execute_result"
    }
   ],
   "source": [
    "df = pd.read_csv(\"metrics/Bart_review_out.txt.csv\")\n",
    "df.iloc[57,:]\n"
   ]
  },
  {
   "cell_type": "code",
   "execution_count": null,
   "id": "dcf08529",
   "metadata": {},
   "outputs": [],
   "source": [
    "df['prediction'] = df['prediction'].str.split('\\n').str[0]\n",
    "\n",
    "df.to_csv(\"bart_review_out.txt.csv\", index=False)"
   ]
  },
  {
   "cell_type": "code",
   "execution_count": 42,
   "id": "e66cdb6d",
   "metadata": {},
   "outputs": [
    {
     "data": {
      "text/plain": [
       "Unnamed: 0                                                           120\n",
       "gold                   This paper demonstrates compellingly that tran...\n",
       "prediction             Transformers are capable of in-context learnin...\n",
       "rouge_score                                                     0.177215\n",
       "bertscore_precision                                             0.780257\n",
       "bertscore_recall                                                0.786702\n",
       "bertscore_f1                                                    0.783467\n",
       "factCC_label                                                   INCORRECT\n",
       "factCC_score                                                    0.999973\n",
       "Name: 120, dtype: object"
      ]
     },
     "execution_count": 42,
     "metadata": {},
     "output_type": "execute_result"
    }
   ],
   "source": [
    "df = pd.read_csv(\"metrics/Bart_review_out.txt.csv\")\n",
    "df.iloc[120,:]"
   ]
  },
  {
   "cell_type": "code",
   "execution_count": 24,
   "id": "1472a46e",
   "metadata": {},
   "outputs": [
    {
     "name": "stdout",
     "output_type": "stream",
     "text": [
      "0 out of 549 predictions contain '\\n' (0.00%)\n"
     ]
    }
   ],
   "source": [
    "has_newline = df['prediction'].str.contains('\\n', regex=False)\n",
    "\n",
    "count_with_newline = has_newline.sum()\n",
    "total = len(df)\n",
    "\n",
    "print(f\"{count_with_newline} out of {total} predictions contain '\\\\n' ({count_with_newline / total:.2%})\")"
   ]
  }
 ],
 "metadata": {
  "kernelspec": {
   "display_name": "autometa",
   "language": "python",
   "name": "python3"
  },
  "language_info": {
   "codemirror_mode": {
    "name": "ipython",
    "version": 3
   },
   "file_extension": ".py",
   "mimetype": "text/x-python",
   "name": "python",
   "nbconvert_exporter": "python",
   "pygments_lexer": "ipython3",
   "version": "3.13.3"
  }
 },
 "nbformat": 4,
 "nbformat_minor": 5
}
